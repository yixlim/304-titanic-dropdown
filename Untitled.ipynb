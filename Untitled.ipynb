{
 "cells": [
  {
   "cell_type": "code",
   "execution_count": 50,
   "id": "b9387ed0-912c-4597-91ce-bd275fd3eed6",
   "metadata": {},
   "outputs": [],
   "source": [
    "import pandas as pd\n",
    "import plotly.graph_objs as go"
   ]
  },
  {
   "cell_type": "code",
   "execution_count": 51,
   "id": "1e44b440-b85a-4d4b-a01f-77cc1379fb45",
   "metadata": {},
   "outputs": [],
   "source": [
    "df = pd.read_csv(\"https://raw.githubusercontent.com/austinlasseter/plotly_dash_tutorial/master/00%20resources/titanic.csv\")\n",
    "df['Female']=df['Sex'].map({'male':0, 'female':1})\n",
    "df['Embarked'].map({'Southampton':'Southampton', 'Cherbourg': 'Cherbourg', 'Queenstown':'Queenstown'})\n",
    "df['Pclass'].map({1:'first', 2: 'second', 3:'third'})\n",
    "variables_list=['Survived', 'Female', 'Fare', 'Age']"
   ]
  },
  {
   "cell_type": "code",
   "execution_count": 60,
   "id": "a1f577a3-7b45-447b-b615-cfb055f46eba",
   "metadata": {},
   "outputs": [
    {
     "ename": "NameError",
     "evalue": "name 'grouped_count' is not defined",
     "output_type": "error",
     "traceback": [
      "\u001b[0;31m---------------------------------------------------------------------------\u001b[0m",
      "\u001b[0;31mNameError\u001b[0m                                 Traceback (most recent call last)",
      "\u001b[0;32m/tmp/ipykernel_45/4206264349.py\u001b[0m in \u001b[0;36m<module>\u001b[0;34m\u001b[0m\n\u001b[1;32m      1\u001b[0m \u001b[0mresults\u001b[0m\u001b[0;34m=\u001b[0m\u001b[0mpd\u001b[0m\u001b[0;34m.\u001b[0m\u001b[0mDataFrame\u001b[0m\u001b[0;34m(\u001b[0m\u001b[0mdf\u001b[0m\u001b[0;34m.\u001b[0m\u001b[0mgroupby\u001b[0m\u001b[0;34m(\u001b[0m\u001b[0;34m[\u001b[0m\u001b[0;34m'Embarked'\u001b[0m\u001b[0;34m,\u001b[0m\u001b[0;34m'Pclass'\u001b[0m\u001b[0;34m]\u001b[0m\u001b[0;34m)\u001b[0m\u001b[0;34m[\u001b[0m\u001b[0mcontinuous_var\u001b[0m\u001b[0;34m]\u001b[0m\u001b[0;34m.\u001b[0m\u001b[0mcount\u001b[0m\u001b[0;34m(\u001b[0m\u001b[0;34m)\u001b[0m\u001b[0;34m)\u001b[0m\u001b[0;34m\u001b[0m\u001b[0;34m\u001b[0m\u001b[0m\n\u001b[0;32m----> 2\u001b[0;31m \u001b[0mresults\u001b[0m\u001b[0;34m=\u001b[0m\u001b[0mpd\u001b[0m\u001b[0;34m.\u001b[0m\u001b[0mDataFrame\u001b[0m\u001b[0;34m(\u001b[0m\u001b[0mgrouped_count\u001b[0m\u001b[0;34m)\u001b[0m\u001b[0;34m\u001b[0m\u001b[0;34m\u001b[0m\u001b[0m\n\u001b[0m\u001b[1;32m      3\u001b[0m     \u001b[0;31m# Create a grouped bar chart\u001b[0m\u001b[0;34m\u001b[0m\u001b[0;34m\u001b[0m\u001b[0m\n\u001b[1;32m      4\u001b[0m \u001b[0;34m\u001b[0m\u001b[0m\n\u001b[1;32m      5\u001b[0m mydata1 = go.Bar(\n",
      "\u001b[0;31mNameError\u001b[0m: name 'grouped_count' is not defined"
     ]
    }
   ],
   "source": [
    "results=pd.DataFrame(df.groupby(['Embarked','Pclass'])[continuous_var].count())\n",
    "results=pd.DataFrame(grouped_count)\n",
    "    # Create a grouped bar chart\n",
    "    \n",
    "mydata1 = go.Bar(\n",
    "    x=results.loc['Cherbourg'].index,\n",
    "    y=results.loc['Cherbourg'][continuous_var],\n",
    "    name='Cherbourg',\n",
    "    marker=dict(color='darkgreen')\n",
    "    )\n",
    "mydata2 = go.Bar(\n",
    "        x=results.loc['Queenstown'].index,\n",
    "        y=results.loc['Queenstown'][continuous_var],\n",
    "        name='Queenstown',\n",
    "        marker=dict(color='lightblue')\n",
    "    )\n",
    "mydata3 = go.Bar(\n",
    "        x=results.loc['Southampton'].index,\n",
    "        y=results.loc['Southampton'][continuous_var],\n",
    "        name='Southampton',\n",
    "        marker=dict(color='orange')\n",
    "    )\n",
    "\n",
    "mylayout = go.Layout(\n",
    "        title='Grouped bar chart',\n",
    "        xaxis = dict(title = 'Class'), # x-axis label\n",
    "        yaxis = dict(title = str(continuous_var)), # y-axis label\n",
    "\n",
    "    )\n",
    "fig = go.Figure(data=[mydata1, mydata2, mydata3], layout=mylayout)\n",
    "return fig"
   ]
  }
 ],
 "metadata": {
  "kernelspec": {
   "display_name": "default:Python",
   "language": "python",
   "name": "conda-env-default-py"
  },
  "language_info": {
   "codemirror_mode": {
    "name": "ipython",
    "version": 3
   },
   "file_extension": ".py",
   "mimetype": "text/x-python",
   "name": "python",
   "nbconvert_exporter": "python",
   "pygments_lexer": "ipython3",
   "version": "3.9.7"
  }
 },
 "nbformat": 4,
 "nbformat_minor": 5
}
